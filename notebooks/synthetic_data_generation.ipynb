{
 "cells": [
  {
   "cell_type": "code",
   "execution_count": 1,
   "metadata": {},
   "outputs": [],
   "source": [
    "import sys  \n",
    "sys.path.insert(1, '/Users/asifahmed/Documents/Codes/MyRecourseProject')\n",
    "\n",
    "from synthetic_data.nodes import *\n",
    "from synthetic_data.edges import *\n",
    "from synthetic_data.generator import *\n",
    "from synthetic_data import erasers\n",
    "import pandas as pd\n"
   ]
  },
  {
   "cell_type": "code",
   "execution_count": 2,
   "metadata": {},
   "outputs": [
    {
     "name": "stdout",
     "output_type": "stream",
     "text": [
      "G independet ['G']\n",
      "----------------------------------------\n",
      "\n",
      "age with parents\n",
      "One parent <synthetic_data.edges.CtoN object at 0x105eadc10> ['G', 'age']\n",
      "----------------------------------------\n",
      "\n",
      "job with parents\n",
      "One parent <synthetic_data.edges.CtoC object at 0x105eaddf0> ['G', 'age', 'job']\n",
      "----------------------------------------\n",
      "\n",
      "X1 with parents\n",
      "One parent <synthetic_data.edges.CtoN object at 0x105eadaf0> ['G', 'age', 'job', 'X1']\n",
      "----------------------------------------\n",
      "\n",
      "X2 independet ['G', 'age', 'job', 'X1', 'X2']\n",
      "----------------------------------------\n",
      "\n",
      "D with parents\n",
      "----------------------------------------\n",
      "\n",
      "--> Generated data is saved to  /Users/asifahmed/Documents/Codes/MyRecourseProject/synthetic_data/out//R1.csv \n",
      "\n",
      "\n"
     ]
    }
   ],
   "source": [
    "# name of folder to save the synthetic data\n",
    "data_flag = \"hiring\"\n",
    "\n",
    "# size of the data\n",
    "total_n = 5000 \n",
    "\n",
    "# initialize nodes\n",
    "node_g = CategoricalNode(\"G\", {\"M\": 0.5, \"F\": 0.5}, sample_n=total_n)\n",
    "node_a = OrdinalGlobalNode(\"age\", min=20, max=70)\n",
    "node_r = CategoricalNode(\"job\", {\"E\", \"F\"})\n",
    "\n",
    "node_x1 = GaussianNode(\"X1\")\n",
    "node_x2 = GaussianNode(\"X2\", miu=0, var=1, sample_n=total_n)\n",
    "node_d = CategoricalNode(\"D\", {\"Y\", \"N\"}) # the value does not have meaning. Only the keys matter for the domain\n",
    "\n",
    "# initialize edges\n",
    "edge_g_a = CtoN(\"G\", \"age\", {\"M\": [\"Gaussian\", 30, 10], \"F\": [\"Gaussian\", 45, 10]})\n",
    "edge_g_r = CtoC(\"G\", \"job\", {\"M\": {\"E\": 0.6, \"F\": 0.4}, \"F\": {\"E\": 0.4, \"F\": 0.6}})\n",
    "edge_g_x1 = CtoN(\"G\", \"X1\", {\"M\": [\"Gaussian\", 1, 0.5], \"F\": [\"Gaussian\", 0, 1]})\n",
    "\n",
    "\n",
    "edge_a_d = NtoC(\"age\", \"D\", [50], [{\"Y\": 0.8, \"N\": 0.2}, {\"Y\": 0.2, \"N\": 0.8}])\n",
    "edge_r_d = CtoC(\"job\", \"D\", {\"E\": {\"Y\": 0.6, \"N\": 0.4}, \"F\": {\"Y\": 0.4, \"N\": 0.6}})\n",
    "\n",
    "edge_x1_d = NtoC(\"X1\", \"D\", [0.5], [{\"Y\": 0.4, \"N\": 0.6}, {\"Y\": 0.6, \"N\": 0.4}])\n",
    "edge_x2_d = NtoC(\"X2\", \"D\", [0.5], [{\"Y\": 0.8, \"N\": 0.2}, {\"Y\": 0.2, \"N\": 0.8}])\n",
    "\n",
    "# define DAG\n",
    "nodes = [node_g, node_a, node_r, node_x1, node_x2, node_d]\n",
    "edge_relation = {\"X1\": edge_g_x1,\n",
    "                 \"age\": edge_g_a,\n",
    "                 \"job\": edge_g_r,\n",
    "                 \"D\": ([edge_x1_d, edge_r_d, edge_a_d, edge_x2_d],[0.25, 0.25, 0.25, 0.25])}\n",
    "\n",
    "\n",
    "\n",
    "# generate data\n",
    "mirror = Mirror(seed=0)\n",
    "mirror.generate_csv(nodes, edge_relation)\n",
    "mirror.save_to_disc(\"/Users/asifahmed/Documents/Codes/MyRecourseProject/synthetic_data/out/\"+\"/R1.csv\", excluded_cols=['C_X1', 'C_age', 'C_X2', 'group'])\n",
    "\n",
    "# mirror.save_to_disc(os.path.join(os.path.expanduser(\"~\"), \"out\", data_flag, \"R1.csv\"), excluded_cols=['C_X1', 'C_age', 'C_X2', 'group'])\n",
    "\n",
    "print()"
   ]
  }
 ],
 "metadata": {
  "kernelspec": {
   "display_name": "research",
   "language": "python",
   "name": "python3"
  },
  "language_info": {
   "codemirror_mode": {
    "name": "ipython",
    "version": 3
   },
   "file_extension": ".py",
   "mimetype": "text/x-python",
   "name": "python",
   "nbconvert_exporter": "python",
   "pygments_lexer": "ipython3",
   "version": "3.12.3"
  }
 },
 "nbformat": 4,
 "nbformat_minor": 2
}
